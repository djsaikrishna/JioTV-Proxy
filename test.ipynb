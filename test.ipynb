{
 "cells": [
  {
   "cell_type": "code",
   "execution_count": 1,
   "metadata": {},
   "outputs": [],
   "source": [
    "from httpx import AsyncClient\n",
    "from Modules.JioSaavn import JioSaavnApi\n",
    "from models.JioSaavn import (\n",
    "    AlbumDetailsModel,\n",
    "    SearchModel,\n",
    "    ArtistDetailsModel,\n",
    "    SongDetailsModel,\n",
    "    HomeModels,\n",
    "    PlaylistDetailsModel,\n",
    ")\n",
    "from typing import Union"
   ]
  },
  {
   "cell_type": "code",
   "execution_count": 2,
   "metadata": {},
   "outputs": [],
   "source": [
    "jio_saavn_api = JioSaavnApi()"
   ]
  },
  {
   "cell_type": "code",
   "execution_count": 3,
   "metadata": {},
   "outputs": [],
   "source": [
    "jio_api_base_url = \"https://www.jiosaavn.com/api.php\""
   ]
  },
  {
   "cell_type": "code",
   "execution_count": 4,
   "metadata": {},
   "outputs": [],
   "source": [
    "home_page = jio_saavn_api.home_page(language=HomeModels.Languages.Tamil)\n",
    "home_page_ = await home_page"
   ]
  },
  {
   "cell_type": "code",
   "execution_count": 5,
   "metadata": {},
   "outputs": [
    {
     "data": {
      "text/plain": [
       "NewAlbumItem(query='Manasilaayo (From \"Vettaiyan\")', text='Manasilaayo (From \"Vettaiyan\")', year='2024', image='https://c.saavncdn.com/130/Manasilaayo-From-Vettaiyan-Tamil-2024-20240909141500-500x500.jpg', albumid='57856226', title='Manasilaayo (From \"Vettaiyan\")', Artist={'music': [{'id': '455663', 'name': 'Anirudh Ravichander'}, {'id': '455371', 'name': 'Malaysia Vasudevan'}, {'id': '782015', 'name': 'Deepthi Suresh'}]}, weight=500, language='tamil', artists=[Music(id='455663', name='Anirudh Ravichander'), Music(id='455371', name='Malaysia Vasudevan'), Music(id='782015', name='Deepthi Suresh')])"
      ]
     },
     "execution_count": 5,
     "metadata": {},
     "output_type": "execute_result"
    }
   ],
   "source": [
    "home_page_.new_albums[0]"
   ]
  },
  {
   "cell_type": "code",
   "execution_count": 6,
   "metadata": {},
   "outputs": [
    {
     "data": {
      "text/plain": [
       "[Song(id='d3rfMKEc', title='Matta', image='https://c.saavncdn.com/829/The-Greatest-Of-All-Time-Tamil-Tamil-2024-20240903191033-500x500.jpg', language='tamil', year='2024', play_count='949374', more_info=MoreInfo(album='The Greatest Of All Time - (Tamil)', album_id='57687828', artist='Yuvan Shankar Raja', encrypted_media_url='ID2ieOjCrwfgWvL5sXl4B1ImC5QfbsDyTn5VPpx+++s4AdMWTdiPbPH7h4CIFhD7Sg3nDV2luFbc4e1lGzgbqhw7tS9a8Gtq', duration='212')),\n",
       " Song(id='f3Z9Vohz', title='Whistle Podu', image='https://c.saavncdn.com/829/The-Greatest-Of-All-Time-Tamil-Tamil-2024-20240903191033-500x500.jpg', language='tamil', year='2024', play_count='1697886', more_info=MoreInfo(album='The Greatest Of All Time - (Tamil)', album_id='57687828', artist='Yuvan Shankar Raja', encrypted_media_url='ID2ieOjCrwfgWvL5sXl4B1ImC5QfbsDyop6qqoRjnvD+toHYEhnm6PArE6bk3+J4ctplPvMs1ogpjpUFF07jvhw7tS9a8Gtq', duration='281')),\n",
       " Song(id='aJ6qxPDa', title='Chinna Chinna Kangal', image='https://c.saavncdn.com/829/The-Greatest-Of-All-Time-Tamil-Tamil-2024-20240903191033-500x500.jpg', language='tamil', year='2024', play_count='736154', more_info=MoreInfo(album='The Greatest Of All Time - (Tamil)', album_id='57687828', artist='Yuvan Shankar Raja', encrypted_media_url='ID2ieOjCrwfgWvL5sXl4B1ImC5QfbsDyOIFU6jh3VudTdOHqGRZnTOkIVhq1+jlY8Yw1HP162S3SkNo871dICxw7tS9a8Gtq', duration='269')),\n",
       " Song(id='6qImZxC3', title='Spark', image='https://c.saavncdn.com/829/The-Greatest-Of-All-Time-Tamil-Tamil-2024-20240903191033-500x500.jpg', language='tamil', year='2024', play_count='767422', more_info=MoreInfo(album='The Greatest Of All Time - (Tamil)', album_id='57687828', artist='Yuvan Shankar Raja', encrypted_media_url='ID2ieOjCrwfgWvL5sXl4B1ImC5QfbsDyDqKyK0qcGwF/eIYWv3nHKqNJvtlqb7K8XcRhue5oyR/51Nf2rMZzQRw7tS9a8Gtq', duration='250')),\n",
       " Song(id='iKT7Yft5', title='Whistle Aesko', image='https://c.saavncdn.com/762/The-Greatest-Of-All-Time-Telugu-Telugu-2024-20240903191019-500x500.jpg', language='telugu', year='2024', play_count='74521', more_info=MoreInfo(album='The Greatest Of All Time - (Telugu)', album_id='57687825', artist='Yuvan Shankar Raja', encrypted_media_url='ID2ieOjCrwfgWvL5sXl4B1ImC5QfbsDyKyOp7xyXF4aMqi9xF1/RG7dUXAhZ1psA/LuNKcIsXBmUIGLL1riXYRw7tS9a8Gtq', duration='281'))]"
      ]
     },
     "execution_count": 6,
     "metadata": {},
     "output_type": "execute_result"
    }
   ],
   "source": [
    "search_songs = await jio_saavn_api.search(\n",
    "    search_mode=SearchModel.SearchModes.SONGS, query=\"The Greatest Of All Time\"\n",
    ")\n",
    "search_songs[:5]"
   ]
  },
  {
   "cell_type": "code",
   "execution_count": 7,
   "metadata": {},
   "outputs": [
    {
     "data": {
      "text/plain": [
       "[Album(id='57856226', title='Manasilaayo (From \"Vettaiyan\")', artist='Anirudh Ravichander, Malaysia Vasudevan, Deepthi Suresh', image='https://c.saavncdn.com/130/Manasilaayo-From-Vettaiyan-Tamil-2024-20240909141500-500x500.jpg', language='tamil', year='2024'),\n",
       " Album(id='58188967', title='Hunter Vantaar (From \"Vettaiyan\")', artist='Anirudh Ravichander, Siddharth Basrur, Arivu', image='https://c.saavncdn.com/156/Hunter-Vantaar-From-Vettaiyan-Tamil-2024-20240920102831-500x500.jpg', language='tamil', year='2024'),\n",
       " Album(id='57856453', title='Manasilaayo (From \"Vettaiyan The Hunter (Telugu)\")', artist='Anirudh Ravichander, Nakash Aziz, Deepthi Suresh', image='https://c.saavncdn.com/185/Manasilaayo-From-Vettaiyan-The-Hunter-Telugu-Telugu-2024-20240909150114-500x500.jpg', language='telugu', year='2024'),\n",
       " Album(id='57856732', title='Manasilaayo (From \"Vettaiyan The Hunter (Kannada)\")', artist='Anirudh Ravichander, Nakash Aziz, Deepthi Suresh', image='https://c.saavncdn.com/215/Manasilaayo-From-Vettaiyan-The-Hunter-Kannada-Kannada-2024-20240909151105-500x500.jpg', language='kannada', year='2024'),\n",
       " Album(id='57856784', title='Manasilaayo (From \"Vettaiyan The Hunter (Hindi)\")', artist='Anirudh Ravichander, Nakash Aziz, Deepthi Suresh', image='https://c.saavncdn.com/291/Manasilaayo-From-Vettaiyan-The-Hunter-Hindi-Hindi-2024-20240909151106-500x500.jpg', language='hindi', year='2024')]"
      ]
     },
     "execution_count": 7,
     "metadata": {},
     "output_type": "execute_result"
    }
   ],
   "source": [
    "search_albums = await jio_saavn_api.search(\n",
    "    search_mode=SearchModel.SearchModes.ALBUMS, query=\"Vettaiyan\"\n",
    ")\n",
    "search_albums[:5]"
   ]
  },
  {
   "cell_type": "code",
   "execution_count": 8,
   "metadata": {},
   "outputs": [
    {
     "data": {
      "text/plain": [
       "[Artist(name='Anirudh Ravichander', id='455663', image='https://c.saavncdn.com/artists/Anirudh_Ravichander_002_20240103064558_500x500.jpg'),\n",
       " Artist(name='Bharatt-Saurabh, Yazin Nizar & Anirudh Ravichander', id='16240434', image='https://www.jiosaavn.com/_i/3.0/artist-default-music.png'),\n",
       " Artist(name='Anirudh Ravichander & Nikhita Gandhi', id='17842605', image='https://www.jiosaavn.com/_i/3.0/artist-default-music.png'),\n",
       " Artist(name='Anirudh Ravichander, Malaysia Vasudevan & Deepthi Suresh', id='20547234', image='https://www.jiosaavn.com/_i/3.0/artist-default-music.png'),\n",
       " Artist(name='Anirudh Ravichander & Siddharth Basrur', id='15279013', image='https://www.jiosaavn.com/_i/3.0/artist-default-music.png')]"
      ]
     },
     "execution_count": 8,
     "metadata": {},
     "output_type": "execute_result"
    }
   ],
   "source": [
    "search_artists = await jio_saavn_api.search(\n",
    "    search_mode=SearchModel.SearchModes.ARTISTS, query=\"Anirudh Ravichander\"\n",
    ")\n",
    "search_artists[:5]"
   ]
  },
  {
   "cell_type": "code",
   "execution_count": 9,
   "metadata": {},
   "outputs": [
    {
     "data": {
      "text/plain": [
       "[Playlist(id='1046292502', title='Jodi Kamaal: Alia-Ranbir', image='https://c.saavncdn.com/editorial/JodiKamaal-AliaRanbir_20220415050730_500x500.jpg'),\n",
       " Playlist(id='57401261', title='Kamal Haasan Sings', image='https://c.saavncdn.com/editorial/KamalHaasanSings_20230105164525_500x500.jpg'),\n",
       " Playlist(id='78041598', title=\"Let's Play - Kamal Haasan - Tamil\", image='https://c.saavncdn.com/editorial/Let_sPlayKamalHaasanTamil_20231101070631_500x500.jpg'),\n",
       " Playlist(id='78041607', title=\"Let's Play - Kamal Haasan - Telugu\", image='https://c.saavncdn.com/editorial/Let_sPlayKamalHaasan_20231229073901_500x500.jpg'),\n",
       " Playlist(id='80782995', title=\"Let's Play - Shruti Haasan - Telugu\", image='https://c.saavncdn.com/editorial/Let_sPlayShrutiHaasanTelugu_20231229074553_500x500.jpg')]"
      ]
     },
     "execution_count": 9,
     "metadata": {},
     "output_type": "execute_result"
    }
   ],
   "source": [
    "search_playlist = await jio_saavn_api.search(\n",
    "    search_mode=SearchModel.SearchModes.PLAYLISTS, query=\"Kamal Haasan\"\n",
    ")\n",
    "search_playlist[:5]"
   ]
  },
  {
   "cell_type": "code",
   "execution_count": 10,
   "metadata": {},
   "outputs": [
    {
     "data": {
      "text/plain": [
       "ArtistDetail(artist_id='455663', name='Anirudh Ravichander', image='https://c.saavncdn.com/artists/Anirudh_Ravichander_002_20240103064558_500x500.jpg', listeners='6001482', follower_count='4562014', top_songs=TopSongs(songs=[Song(id='Evs3gawd', title='Chuttamalle (From \"Devara Part 1\")', image='https://c.saavncdn.com/411/Chuttamalle-From-Devara-Part-1-Telugu-2024-20240805181008-500x500.jpg', language='telugu', year='2024', play_count='12409286', more_info=MoreInfo(album='Chuttamalle (From &quot;Devara Part 1&quot;)', album_id='56856178', artist='Anirudh Ravichander', encrypted_media_url='ID2ieOjCrwfgWvL5sXl4B1ImC5QfbsDyw6qIJUy1AjvdexOGOGCU2ZTLwvj5x5e1ywUtf3Pxhzxbh1Db25Zedxw7tS9a8Gtq', duration='222')), Song(id='1gugl0jt', title='Po Ve Po - The Pain Of Love', image='https://c.saavncdn.com/244/3-Telugu-2012-500x500.jpg', language='telugu', year='2012', play_count='43182485', more_info=MoreInfo(album='3 (Telugu)', album_id='1017244', artist='Anirudh Ravichander', encrypted_media_url='ID2ieOjCrwfgWvL5sXl4B1ImC5QfbsDyaKkEXkGNRulL0+XM8pWLFnJHbvx7vflwSUduu7dPNBIeeRXfsluYDRw7tS9a8Gtq', duration='255')), Song(id='fK1eGcMo', title='Daavudi (From \"Devara Part 1\") - Telugu', image='https://c.saavncdn.com/167/Daavudi-From-Devara-Part-1-Telugu-Telugu-2024-20240904121017-500x500.jpg', language='telugu', year='2024', play_count='1666777', more_info=MoreInfo(album='Daavudi (From &quot;Devara Part 1&quot;) - Telugu', album_id='57716174', artist='', encrypted_media_url='ID2ieOjCrwfgWvL5sXl4B1ImC5QfbsDyh4+D5h11xTeyUMcTc9RPjFiywL64yvOVsCtJ5PTUNgAGAor7wRAUnBw7tS9a8Gtq', duration='229')), Song(id='yQcTqw6-', title='Fear Song (From \"Devara Part 1\") - Telugu', image='https://c.saavncdn.com/368/Fear-Song-From-Devara-Part-1-Telugu-Telugu-2024-20240519131003-500x500.jpg', language='telugu', year='2024', play_count='7353586', more_info=MoreInfo(album='Fear Song (From &quot;Devara Part 1&quot;) - Telugu', album_id='54450075', artist='Anirudh Ravichander', encrypted_media_url='ID2ieOjCrwfgWvL5sXl4B1ImC5QfbsDyyVzBalOv0esmwKVKRZqG6+jGx7uzc4N1Nc6Tg1dgTr2m4+Ff3NHZGhw7tS9a8Gtq', duration='195')), Song(id='VwtmxHcj', title='Manasilaayo (From \"Vettaiyan\")', image='https://c.saavncdn.com/130/Manasilaayo-From-Vettaiyan-Tamil-2024-20240909141500-500x500.jpg', language='tamil', year='2024', play_count='1057264', more_info=MoreInfo(album='Manasilaayo (From &quot;Vettaiyan&quot;)', album_id='57856226', artist='Anirudh Ravichander', encrypted_media_url='ID2ieOjCrwfgWvL5sXl4B1ImC5QfbsDy2TADdAcnO8y8N+xXM4+9iro0hJVI96C4eo8hpghNM31fov+CQLny4Bw7tS9a8Gtq', duration='235')), Song(id='2tSfxpxj', title='Vikram Title Track (Telugu)', image='https://c.saavncdn.com/666/Vikram-Hitlist-Telugu-2022-20220607175939-500x500.jpg', language='telugu', year='2022', play_count='28848673', more_info=MoreInfo(album='Vikram Hitlist', album_id='35545102', artist='Anirudh Ravichander', encrypted_media_url='ID2ieOjCrwfgWvL5sXl4B1ImC5QfbsDyeX8MhTXthmwH34hINeo0vy6xjFif3rLaHg5y1eeANeHJXSWVj6oiphw7tS9a8Gtq', duration='218')), Song(id='EB492TD0', title=\"Don'u Don'u Don'u\", image='https://c.saavncdn.com/431/Maas-Telugu-2016-500x500.jpg', language='telugu', year='2016', play_count='16631105', more_info=MoreInfo(album='Maas', album_id='1761000', artist='Anirudh Ravichander', encrypted_media_url='ID2ieOjCrwfgWvL5sXl4B1ImC5QfbsDyfjKjjwPpiBT+JcHofsgTo9zqLxX5UAmlns5dj5f0t+eyfHD+AT71Bxw7tS9a8Gtq', duration='197')), Song(id='gYM27Q-D', title='Vellake', image='https://c.saavncdn.com/040/Vellake-Telugu-2023-20230510195047-500x500.jpg', language='telugu', year='2023', play_count='24585729', more_info=MoreInfo(album='Vellake', album_id='45222911', artist='Bharatt Hans, Saurabh Malhotra', encrypted_media_url='ID2ieOjCrwfgWvL5sXl4B1ImC5QfbsDyEdEeOgZKq/ZQd4W+nmMYPOvzR37buyTgJdKVXVrHKFMvRmgkyLABvxw7tS9a8Gtq', duration='217')), Song(id='RbbH_Jja', title='Hoyna Hoyna', image='https://c.saavncdn.com/663/Gang-Leader-Telugu-2019-20190905102749-500x500.jpg', language='telugu', year='2019', play_count='55041523', more_info=MoreInfo(album='Gang Leader', album_id='17185444', artist='Anirudh Ravichander', encrypted_media_url='ID2ieOjCrwfgWvL5sXl4B1ImC5QfbsDy2xSILiQvV47at1ofJS9sDsc1sHYKpYmWp6aFWZBR7gWoZr3z/9Fq/hw7tS9a8Gtq', duration='276')), Song(id='ZcTByge5', title='Red Sea (From \"Devara Part 1\")', image='https://c.saavncdn.com/877/Red-Sea-From-Devara-Part-1-Telugu-2024-20240912181004-500x500.jpg', language='telugu', year='2024', play_count='510031', more_info=MoreInfo(album='Red Sea (From &quot;Devara Part 1&quot;)', album_id='57973564', artist='Anirudh Ravichander', encrypted_media_url='ID2ieOjCrwfgWvL5sXl4B1ImC5QfbsDy6wBSThM2NVX7pWt2Za5M2ouboXk6j6HuWjMkEWt1pOItjIgCvkyd4Rw7tS9a8Gtq', duration='162'))]), top_albums=TopAlbums(albums=[Album(id='1017244', title='3 (Telugu)', artist='', image='https://c.saavncdn.com/244/3-Telugu-2012-500x500.jpg', language='telugu', year='2012'), Album(id='31987473', title='DJ Tillu', artist='', image='https://c.saavncdn.com/430/DJ-Tillu-Telugu-2022-20220210033850-500x500.jpg', language='telugu', year='2022'), Album(id='17185444', title='Gang Leader', artist='', image='https://c.saavncdn.com/663/Gang-Leader-Telugu-2019-20190905102749-500x500.jpg', language='telugu', year='2019'), Album(id='48037104', title='Jawan', artist='', image='https://c.saavncdn.com/047/Jawan-Hindi-2023-20230921190854-500x500.jpg', language='hindi', year='2023'), Album(id='49113982', title='Leo (Original Motion Picture Soundtrack)', artist='', image='https://c.saavncdn.com/415/Leo-Original-Motion-Picture-Soundtrack-English-2023-20231019170311-500x500.jpg', language='tamil', year='2023'), Album(id='35545102', title='Vikram Hitlist', artist='', image='https://c.saavncdn.com/666/Vikram-Hitlist-Telugu-2022-20220607175939-500x500.jpg', language='telugu', year='2022'), Album(id='1761000', title='Maas', artist='', image='https://c.saavncdn.com/431/Maas-Telugu-2016-500x500.jpg', language='telugu', year='2016'), Album(id='35003732', title='Vikram', artist='', image='https://c.saavncdn.com/973/Vikram-Tamil-2022-20220515182605-500x500.jpg', language='tamil', year='2022'), Album(id='19479273', title='Master', artist='', image='https://c.saavncdn.com/347/Master-Tamil-2020-20200316084627-500x500.jpg', language='tamil', year='2020'), Album(id='1251943', title='Maari', artist='', image='https://c.saavncdn.com/098/Maari-Tamil-2015-20200806144615-500x500.jpg', language='tamil', year='2015'), Album(id='1017243', title='3', artist='', image='https://c.saavncdn.com/195/3-Tamil-2011-20210522203119-500x500.jpg', language='tamil', year='2011'), Album(id='47094777', title='Jailer', artist='', image='https://c.saavncdn.com/187/Jailer-Tamil-2023-20230728081443-500x500.jpg', language='tamil', year='2023')]))"
      ]
     },
     "execution_count": 10,
     "metadata": {},
     "output_type": "execute_result"
    }
   ],
   "source": [
    "await jio_saavn_api.artist_details(artist_id=\"455663\")"
   ]
  },
  {
   "cell_type": "code",
   "execution_count": 15,
   "metadata": {},
   "outputs": [
    {
     "data": {
      "text/plain": [
       "[Song(id='VwtmxHcj', title='Manasilaayo (From \"Vettaiyan\")', album='Manasilaayo (From \"Vettaiyan\")', albumid='57856226', year='2024', artist='Anirudh Ravichander', artist_id='455663', image='https://c.saavncdn.com/130/Manasilaayo-From-Vettaiyan-Tamil-2024-20240909141500-500x500.jpg', play_count='1056859', encrypted_media_url='ID2ieOjCrwfgWvL5sXl4B1ImC5QfbsDy2TADdAcnO8y8N+xXM4+9iro0hJVI96C4eo8hpghNM31fov+CQLny4Bw7tS9a8Gtq', duration='235', release_date='2024-09-09')]"
      ]
     },
     "execution_count": 15,
     "metadata": {},
     "output_type": "execute_result"
    }
   ],
   "source": [
    "album_details = await jio_saavn_api.album_details(album_id=\"57856226\")"
   ]
  },
  {
   "cell_type": "code",
   "execution_count": 21,
   "metadata": {},
   "outputs": [
    {
     "data": {
      "text/plain": [
       "['Anirudh Ravichander', 'Malaysia Vasudevan', 'Deepthi Suresh']"
      ]
     },
     "execution_count": 21,
     "metadata": {},
     "output_type": "execute_result"
    }
   ],
   "source": [
    "album_details.album_detail.primary_artists"
   ]
  },
  {
   "cell_type": "code",
   "execution_count": 22,
   "metadata": {},
   "outputs": [],
   "source": [
    "st = await jio_saavn_api.song_details(song_id=\"d3rfMKEc\")"
   ]
  },
  {
   "cell_type": "code",
   "execution_count": 24,
   "metadata": {},
   "outputs": [
    {
     "data": {
      "text/plain": [
       "'Matta'"
      ]
     },
     "execution_count": 24,
     "metadata": {},
     "output_type": "execute_result"
    }
   ],
   "source": [
    "st.title"
   ]
  },
  {
   "cell_type": "code",
   "execution_count": 13,
   "metadata": {},
   "outputs": [
    {
     "data": {
      "text/plain": [
       "PlaylistDetail(id='57401261', title='Kamal Haasan Sings', list_count='32', songs=[Song(id='nR0L130u', song='Vikram Vikram', album='Vikram', album_id='44295069', year='1986', artist=['Kamal Haasan'], artist_id=['457313'], image='https://c.saavncdn.com/750/Vikram-Tamil-1986-20230407025622-500x500.jpg', language='tamil'), Song(id='3dqo3yUN', song='Anbe Sivam', album='Anbe Sivam', album_id='36195502', year='2015', artist=['Kamalahasan', 'Karthilk'], artist_id=['463617', '459389'], image='https://c.saavncdn.com/325/Anbe-Sivam-Tamil-2015-20230623013033-500x500.jpg', language='tamil'), Song(id='vfqUQNNb', song='Pathala Pathala (From \"Vikram\")', album='Pathala Pathala (From \"Vikram\")', album_id='34901305', year='2022', artist=['Kamal Haasan', 'Anirudh Ravichander'], artist_id=['457313', '455663'], image='https://c.saavncdn.com/904/Pathala-Pathala-From-Vikram-Tamil-2022-20220511165924-500x500.jpg', language='tamil'), Song(id='kbA0xz9m', song='Raja Kaiya Vachchaa', album='Apoorva Sagodharargal', album_id='44115578', year='1989', artist=['Kamal Haasan'], artist_id=['457313'], image='https://c.saavncdn.com/351/Apoorva-Sagodharargal-Tamil-1989-20230401052501-500x500.jpg', language='tamil'), Song(id='5SiypbbH', song='Inji Idupazhagi', album='Devar Magan', album_id='11440186', year='2017', artist=['Kamal Haasan', 'S. Janaki'], artist_id=['457313', '455844'], image='https://c.saavncdn.com/779/Devar-Magan-Tamil-2017-20201124144947-500x500.jpg', language='tamil'), Song(id='QB3wkdrU', song='Thenpandi Cheemayile', album='Nayagan', album_id='44294997', year='1987', artist=['Ilaiyaraaja', 'Kamal Haasan'], artist_id=['457536', '457313'], image='https://c.saavncdn.com/067/Nayagan-Tamil-1987-20230407025617-500x500.jpg', language='tamil'), Song(id='vL95b8w6', song='Kombula Poova', album='Virumandi', album_id='16041094', year='2004', artist=['Kamal Hassan'], artist_id=['457313'], image='https://c.saavncdn.com/004/Virumandi-Tamil-2004-20201104150110-500x500.jpg', language='tamil'), Song(id='k1unigzg', song='Ninaivo Oru', album='Sikappu Rojakkal', album_id='2406705', year='1978', artist=['S. Janaki', 'Kamal Haasan', 'Ilaiyaraaja'], artist_id=['455844', '457313', '457536'], image='https://c.saavncdn.com/974/Sikappu-Rojakkal-Tamil-1978-500x500.jpg', language='tamil'), Song(id='McfyAUOv', song='Kaasumela', album='Kaathala Kaathala', album_id='10830658', year='2017', artist=['Kamal Haasan', 'Udit Narayan'], artist_id=['8854324'], image='https://c.saavncdn.com/445/Kaathala-Kaathala-Tamil-2017-500x500.jpg', language='tamil'), Song(id='SAfmu8wI', song='Sundhari Neeyum Sundharan Njanum', album='Michael Madana Kama Rajan', album_id='44294989', year='2021', artist=['Kamal Haasan', 'S. Janaki'], artist_id=['457313', '455844'], image='https://c.saavncdn.com/815/Michael-Madana-Kama-Rajan-Tamil-2021-20230407025910-500x500.jpg', language='tamil'), Song(id='MKDakdlc', song='Oh..Ho..Sanam', album='Dhasavathaaram', album_id='1025391', year='2008', artist=['Himesh Reshammiya', 'Mahalakshmi Iyer', 'Kamal Haasan'], artist_id=['455132', '455251', '457313'], image='https://c.saavncdn.com/391/Dhasavathaaram-2008-500x500.jpg', language='tamil'), Song(id='NxZgz9ML', song='Kanmani Anbodu (From \"Gunaa\")', album='Love Songs Of Ilaiyaraja & A. R. Rahman', album_id='11809274', year='2017', artist=['Kamala Hassan', 'S. Janaki'], artist_id=['4118073'], image='https://c.saavncdn.com/821/Love-Songs-Of-Ilaiyaraja-A-R-Rahman-Tamil-2017-20171115182421-500x500.jpg', language='tamil'), Song(id='phMZ7ooe', song='Alangatti Mazhai', album='Thenali', album_id='2166591', year='2000', artist=['Kamal Haasan', 'Sujatha Mohan', 'A.R. Rahman'], artist_id=['457313', '460005', '456269'], image='https://c.saavncdn.com/530/Thenali-Tamil-2000-500x500.jpg', language='tamil'), Song(id='qZpWgiaI', song='Neruppu Vaayinil', album='Pudhupettai', album_id='2988216', year='2005', artist=['Kamal Haasan'], artist_id=['457313'], image='https://c.saavncdn.com/138/Pudhupettai-Tamil-2005-20210402101916-500x500.jpg', language='tamil'), Song(id='7BaNIeEw', song='Injarango', album='Thenali', album_id='2166591', year='2000', artist=['Kamal Haasan', 'K. S. Chithra', 'Clinton', 'Dominique Cerejo', 'A.R. Rahman'], artist_id=['457313', '483224', '758478', '463376', '456269'], image='https://c.saavncdn.com/530/Thenali-Tamil-2000-500x500.jpg', language='tamil'), Song(id='K-piCQZV', song='Ram Ram', album='Heyram', album_id='1133590', year='2000', artist=['Kamal Haasan', 'Shruti Haasan'], artist_id=['457313', '455666'], image='https://c.saavncdn.com/101/Heyram-2000-500x500.jpg', language='tamil'), Song(id='DRsizTP9', song='Alwarpet Andava', album='Vasool Raja MBBS', album_id='38214160', year='2004', artist=['Kamal Haasan', 'Bharadwaj', 'Vairamuthu'], artist_id=['457313', '456445', '457542'], image='https://c.saavncdn.com/221/Vasool-Raja-MBBS-Tamil-2004-20230903202807-500x500.jpg', language='tamil'), Song(id='pddbL4vJ', song='Kadavaul Paadhi (1)', album='Aalavandhan', album_id='43228689', year='2001', artist=['Kamal Hassan', 'N', 'Ini Srikar Srikar'], artist_id=['457313', '488459', '15578719'], image='https://c.saavncdn.com/909/Aalavandhan-Tamil-2001-20230305204022-500x500.jpg', language='tamil'), Song(id='YJGux4XP', song='Anu Vidhaiththa Boomiyile', album='Vishwaroopam (Tamil)', album_id='1106485', year='2012', artist=['Kamal Haasan', 'Shankar-Ehsaan-Loy', \"Nikhil D'souza\"], artist_id=['457313', '455280', '459576'], image='https://c.saavncdn.com/032/Vishwaroopam-Tamil--Tamil-2012-20190822132700-500x500.jpg', language='tamil'), Song(id='4wK5_TFc', song='Kandhasamy Maadasamy', album='Pammal K.Sambandham', album_id='1298208', year='2010', artist=['Kamal Haasan', 'Deva'], artist_id=['457313', '455219'], image='https://c.saavncdn.com/868/Pammal-K-Sambandham-Tamil-2010-500x500.jpg', language='tamil'), Song(id='itSxeype', song='Neeye Unakku Raja', album='Thoongaa Vanam', album_id='1510013', year='2015', artist=['Kamal Haasan', 'Aishwarya', 'Yazin Nizar'], artist_id=['457313', '455401', '505231'], image='https://c.saavncdn.com/878/Thoongaavanam-Tamil-2015-500x500.jpg', language='tamil'), Song(id='Xn3scPQu', song='Marugo Marugo', album='Sathi Leelavathi', album_id='12012382', year='2017', artist=['Kamal Hasan', 'Chitra', 'Kovai Sarala'], artist_id=['4280379'], image='https://c.saavncdn.com/736/Sathi-Leelavathi-Tamil-2017-20201124152202-500x500.jpg', language='tamil'), Song(id='lkJ6V47B', song='Kadhal Piriyamal', album='Panchathanthiram', album_id='1701206', year='2002', artist=['Kamal Haasan', 'Deva'], artist_id=['457313', '455219'], image='https://c.saavncdn.com/192/Panchathanthiram-Tamil-2002-500x500.jpg', language='tamil'), Song(id='VFUU7T--', song='Siri Siri', album='Aalavandhan', album_id='43228689', year='2001', artist=['Kamal Hassan', 'Mahalakshmi Iyer'], artist_id=['457313', '455251'], image='https://c.saavncdn.com/909/Aalavandhan-Tamil-2001-20230305204022-500x500.jpg', language='tamil'), Song(id='V9ZycS72', song='Loveaa Loveaa', album='Uttama Villain (Original Motion Picture Soundtrack)', album_id='1226044', year='2015', artist=['Kamal Haasan', 'Ghibran', 'Sharanya Gopinath', 'Anitha Karthikeyan', 'Nivas'], artist_id=['457313', '2056418', '714998', '673954', '481864'], image='https://c.saavncdn.com/893/Uttama-Villain-Tamil-2015-20200805134558-500x500.jpg', language='tamil'), Song(id='ak2-Z_Ty', song='Pottu Vaitha Kathal', album='Singaravelan', album_id='3287603', year='2016', artist=['Kamal Hassan', 'Mano'], artist_id=['4093054'], image='https://c.saavncdn.com/352/Singaravelan-Tamil-2016-20201124145533-500x500.jpg', language='tamil'), Song(id='D9ZMv5Pm', song='Peigala Bhoodhama', album='Mahanadi', album_id='10866301', year='2017', artist=['Kamal Hassan', 'Shanmugasundari'], artist_id=['6347670'], image='https://c.saavncdn.com/127/Mahanadi-Tamil-2017-20201124145527-500x500.jpg', language='tamil'), Song(id='Pv8W2XKf', song='Ammama Vanthathu', album='Per Sollum Pillai', album_id='18634281', year='1987', artist=['Kamalhasan'], artist_id=['457313'], image='https://c.saavncdn.com/895/Per-Sollum-Pillai-Tamil-1987-20230831114220-500x500.jpg', language='tamil'), Song(id='peHX6uhz', song='Madonna Paadala', album='Kaathala Kaathala', album_id='10830658', year='2017', artist=['Kamal Haasan'], artist_id=['457313'], image='https://c.saavncdn.com/445/Kaathala-Kaathala-Tamil-2017-500x500.jpg', language='tamil'), Song(id='viwWU6SL', song='Vizhiyorathu', album='Raaja Paarvai', album_id='2166435', year='1981', artist=['Kamal Haasan', 'B.S. Sasirekha', 'Ilaiyaraaja'], artist_id=['457313', '536927', '457536'], image='https://c.saavncdn.com/411/Raaja-Paarvai-Tamil-1981-500x500.jpg', language='tamil'), Song(id='HAEhgvGV', song='Kaarirulae (From \"Avam\")', album='Kaarirulae (From \"Avam\")', album_id='1245688', year='2015', artist=['Sundaramurthy KS', 'Kamal Haasan', 'Madhan Karky'], artist_id=['844597', '457313', '660956'], image='https://c.saavncdn.com/888/Kaarirulae-From-Avam--Tamil-2015-20200806123432-500x500.jpg', language='tamil'), Song(id='SsabdMMV', song='Paneer Pushpangale', album='Aval Appaditthan', album_id='1020482', year='1978', artist=['Kamal Haasan'], artist_id=['457313'], image='https://c.saavncdn.com/627/Aval-Appaditthan-Tamil-1978-500x500.jpg', language='tamil')])"
      ]
     },
     "execution_count": 13,
     "metadata": {},
     "output_type": "execute_result"
    }
   ],
   "source": [
    "playlist_details_ = await jio_saavn_api.playlist_details(\"57401261\")\n",
    "playlist_details_"
   ]
  },
  {
   "cell_type": "code",
   "execution_count": null,
   "metadata": {},
   "outputs": [],
   "source": []
  },
  {
   "cell_type": "code",
   "execution_count": null,
   "metadata": {},
   "outputs": [],
   "source": []
  }
 ],
 "metadata": {
  "kernelspec": {
   "display_name": "Python 3",
   "language": "python",
   "name": "python3"
  },
  "language_info": {
   "codemirror_mode": {
    "name": "ipython",
    "version": 3
   },
   "file_extension": ".py",
   "mimetype": "text/x-python",
   "name": "python",
   "nbconvert_exporter": "python",
   "pygments_lexer": "ipython3",
   "version": "3.12.4"
  }
 },
 "nbformat": 4,
 "nbformat_minor": 2
}

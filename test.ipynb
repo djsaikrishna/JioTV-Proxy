{
 "cells": [
  {
   "cell_type": "code",
   "execution_count": 1,
   "metadata": {},
   "outputs": [],
   "source": [
    "from httpx import AsyncClient\n",
    "from Modules.JioSaavn import JioSaavnApi\n",
    "from models.JioSaavn import AlbumDetailsModel, SearchModel, ArtistDetailsModel\n",
    "from typing import Union"
   ]
  },
  {
   "cell_type": "code",
   "execution_count": 2,
   "metadata": {},
   "outputs": [],
   "source": [
    "jio_saavn_api = JioSaavnApi()"
   ]
  },
  {
   "cell_type": "code",
   "execution_count": 3,
   "metadata": {},
   "outputs": [],
   "source": [
    "jio_api_base_url = \"https://www.jiosaavn.com/api.php\""
   ]
  },
  {
   "cell_type": "code",
   "execution_count": 4,
   "metadata": {},
   "outputs": [
    {
     "data": {
      "text/plain": [
       "[Artist(name='BTS', id='3315420', image='https://c.saavncdn.com/artists/BTS_004_20230622110112_500x500.jpg'),\n",
       " Artist(name='Jawsh 685 x Jason Derulo x BTS', id='8775941', image='https://www.jiosaavn.com/_i/3.0/artist-default-music.png'),\n",
       " Artist(name='HamBts', id='4504434', image='https://www.jiosaavn.com/_i/3.0/artist-default-music.png'),\n",
       " Artist(name='Btsh', id='6391119', image='https://www.jiosaavn.com/_i/3.0/artist-default-film.png'),\n",
       " Artist(name='Btsound', id='1009732', image='https://c.saavncdn.com/138/Go-Back-to-the-Start-English-2013-500x500.jpg')]"
      ]
     },
     "execution_count": 4,
     "metadata": {},
     "output_type": "execute_result"
    }
   ],
   "source": [
    "search = await jio_saavn_api.search(\n",
    "    search_mode=SearchModel.SearchModes.ARTISTS, query=\"BTS\"\n",
    ")\n",
    "search[:5]"
   ]
  },
  {
   "cell_type": "code",
   "execution_count": 5,
   "metadata": {},
   "outputs": [
    {
     "data": {
      "text/plain": [
       "ArtistDetail(artist_id='3315420', name='BTS', image='https://c.saavncdn.com/artists/BTS_004_20230622110112_500x500.jpg', listeners='182357', follower_count='1950935', top_songs=TopSongs(songs=[Song(id='0yCYhNLi', title='My Universe', image='https://c.saavncdn.com/000/My-Universe-English-2021-20211015134722-500x500.jpg', language='english', year='2021', play_count='6371278', more_info=MoreInfo(album='My Universe', album_id='29823349', artist='', encrypted_media_url='ID2ieOjCrwfgWvL5sXl4B1ImC5QfbsDyfX6+dFH5Fr5gsob2Qol6aj5gcv2p4TpKm/BbShGVhI+ETmUFfX59BRw7tS9a8Gtq', duration='228')), Song(id='M0UNnNcI', title='Dynamite', image='https://c.saavncdn.com/223/Dynamite-English-2021-20211124055845-500x500.jpg', language='english', year='2021', play_count='17723873', more_info=MoreInfo(album='Dynamite', album_id='31044567', artist='Jessica Agombar, David Stewart', encrypted_media_url='ID2ieOjCrwfgWvL5sXl4B1ImC5QfbsDy92iXMNDWPjCz6Anll3VzDQsYCm6cEdEL0apGyG3AbUgCBn/ABGGpphw7tS9a8Gtq', duration='199')), Song(id='pBAhmlqn', title='Savage Love (Laxed - Siren Beat) (BTS Remix)', image='https://c.saavncdn.com/628/Savage-Love-Laxed-Siren-Beat-BTS-Remix--English-2020-20201001075424-500x500.jpg', language='english', year='2020', play_count='7065271', more_info=MoreInfo(album='Savage Love (Laxed - Siren Beat) [BTS Remix]', album_id='22819341', artist='Jason Derulo, Joshua Nanai, Jacob Kasher Hindlin, Phil Greiss', encrypted_media_url='ID2ieOjCrwfgWvL5sXl4B1ImC5QfbsDyTscm1mNGCgMWPY0GXA7Oig9T5EYs6KfVvg0ygMW6WrtDMeqv/2nCBBw7tS9a8Gtq', duration='184')), Song(id='TMJ4RPxM', title='Left and Right (Feat. Jung Kook of BTS)', image='https://c.saavncdn.com/752/Left-and-Right-Feat-Jung-Kook-of-BTS-English-2022-20220909020415-500x500.jpg', language='english', year='2022', play_count='3982570', more_info=MoreInfo(album='Left and Right (Feat. Jung Kook of BTS)', album_id='35880795', artist='', encrypted_media_url='ID2ieOjCrwfgWvL5sXl4B1ImC5QfbsDyHFfeu5/nEU15AMVar5e2m2rTrLOc10gqdt9Jyi+HBeumA9TWz1V68hw7tS9a8Gtq', duration='154')), Song(id='Ft1ANFOt', title='Run BTS', image='https://c.saavncdn.com/341/Proof-Korean-2022-20220614202104-500x500.jpg', language='korean', year='2022', play_count='2732394', more_info=MoreInfo(album='Proof', album_id='35631391', artist='Dwayne Abernathy Jr., Rm, Ebenezer, J-hope, GHSTLOOP, Jung Kook, Suga, Oneye (Pontus Kalm), Daniel Caesar, Ludwig Lindell, Melanie Joy Fontana, Michel “Lindgren” Schulz, Feli Ferraro', encrypted_media_url='ID2ieOjCrwfgWvL5sXl4B1ImC5QfbsDy0WD3UaEG9sPUDa+Mpi1SD6BY78IitqE8/t5rmZAum/AfusNSrQ0cthw7tS9a8Gtq', duration='204')), Song(id='nfSid-K0', title='Permission to Dance', image='https://c.saavncdn.com/488/Permission-to-Dance-English-2021-20211204034618-500x500.jpg', language='english', year='2021', play_count='5003445', more_info=MoreInfo(album='Permission to Dance', album_id='31270751', artist='Jenna Andrews, Johnny Mcdaid, Steve Mac, Ed Sheeran', encrypted_media_url='ID2ieOjCrwfgWvL5sXl4B1ImC5QfbsDyKbmcDlMYvA+YyZiTqqeGi9Mx5SWQL3dQcwrUI+/jfLyeU+u6rOibRxw7tS9a8Gtq', duration='187')), Song(id='GRyz0ChE', title='Life Goes On', image='https://c.saavncdn.com/273/BE-Korean-2021-20220510145040-500x500.jpg', language='korean', year='2021', play_count='4193889', more_info=MoreInfo(album='BE', album_id='30977759', artist='Antonina Armato, Chris James, Rm, Ruuth, Suga, J-hope, Pdogg', encrypted_media_url='ID2ieOjCrwfgWvL5sXl4B1ImC5QfbsDyksqGV8Eyk5KIbd5i0NbY6KFzoMEYHkTM63EAz9bY8AfYsKzXLg8lTRw7tS9a8Gtq', duration='207')), Song(id='_TME2O4r', title='Blood Sweat & Tears', image='https://c.saavncdn.com/618/Wings-Korean-2021-20220510145045-500x500.jpg', language='korean', year='2021', play_count='5855935', more_info=MoreInfo(album='Wings', album_id='30977756', artist='Bang Si Hyuk, Do Hoon, Rap Monster, Suga, J-hope, Pdogg', encrypted_media_url='ID2ieOjCrwfgWvL5sXl4B1ImC5QfbsDyHLHk+T/uNUPov9JQjVkp6/mmxPPtahYMYDXmHknOcfVGGu9XoRmssBw7tS9a8Gtq', duration='217')), Song(id='jicy1GN4', title='Butter', image='https://c.saavncdn.com/739/Butter-Permission-to-Dance-English-2021-20220513200931-500x500.jpg', language='english', year='2021', play_count='9452818', more_info=MoreInfo(album='Butter / Permission to Dance', album_id='31270757', artist='Alex Bilowitz, Rm, Rob Grimaldi, Ron Perry, Sebastian Garcia, Stephen Kirk, Jenna Andrews', encrypted_media_url='ID2ieOjCrwfgWvL5sXl4B1ImC5QfbsDyxjfAYm7/Oc40Zp67YKGVaRylYdWQzckb/Pop9qaYVlipkdDVkZRW6Rw7tS9a8Gtq', duration='164')), Song(id='8NpzK5M7', title='Boy With Luv (Feat. Halsey)', image='https://c.saavncdn.com/713/MAP-OF-THE-SOUL-7-Korean-2021-20211208015233-500x500.jpg', language='korean', year='2021', play_count='9000611', more_info=MoreInfo(album='MAP OF THE SOUL : 7', album_id='31363268', artist='Melanie Joy Fontana, Michel &quot;Lindgren&quot; Schulz, Emily Weisband, &quot;hitman&quot; Bang, Halsey, J-hope, Pdogg, Suga, Rm', encrypted_media_url='ID2ieOjCrwfgWvL5sXl4B1ImC5QfbsDyhz0k/AzojfkZC0m1NqHjbp673qzTh4SwRiM/s4DOrXj3hASH81P+Ghw7tS9a8Gtq', duration='229'))]), top_albums=TopAlbums(albums=[Album(id='29823349', title='My Universe', artist='', image='https://c.saavncdn.com/000/My-Universe-English-2021-20211015134722-500x500.jpg', language='english', year='2021'), Album(id='22819341', title='Savage Love (Laxed - Siren Beat) [BTS Remix]', artist='', image='https://c.saavncdn.com/628/Savage-Love-Laxed-Siren-Beat-BTS-Remix--English-2020-20201001075424-500x500.jpg', language='english', year='2020'), Album(id='30977759', title='BE', artist='', image='https://c.saavncdn.com/273/BE-Korean-2021-20220510145040-500x500.jpg', language='korean', year='2021'), Album(id='31270759', title=\"Love Yourself 結 'Answer'\", artist='', image='https://c.saavncdn.com/591/Love-Yourself-Answer--Korean-2021-20211204034621-500x500.jpg', language='korean', year='2021'), Album(id='31363309', title='MAP OF THE SOUL : PERSONA', artist='', image='https://c.saavncdn.com/238/MAP-OF-THE-SOUL-PERSONA-Korean-2021-20211208015234-500x500.jpg', language='korean', year='2021'), Album(id='31363268', title='MAP OF THE SOUL : 7', artist='', image='https://c.saavncdn.com/713/MAP-OF-THE-SOUL-7-Korean-2021-20211208015233-500x500.jpg', language='korean', year='2021'), Album(id='31270757', title='Butter / Permission to Dance', artist='', image='https://c.saavncdn.com/739/Butter-Permission-to-Dance-English-2021-20220513200931-500x500.jpg', language='english', year='2021'), Album(id='35631391', title='Proof', artist='', image='https://c.saavncdn.com/341/Proof-Korean-2022-20220614202104-500x500.jpg', language='korean', year='2022'), Album(id='30977775', title='Skool Luv Affair', artist='', image='https://c.saavncdn.com/795/Skool-Luv-Affair-Korean-2021-20220510145030-500x500.jpg', language='korean', year='2021'), Album(id='30977756', title='Wings', artist='', image='https://c.saavncdn.com/618/Wings-Korean-2021-20220510145045-500x500.jpg', language='korean', year='2021'), Album(id='38819059', title='CHARLIE', artist='', image='https://c.saavncdn.com/589/CHARLIE-English-2022-20221005173517-500x500.jpg', language='english', year='2022'), Album(id='30977514', title=\"Love Yourself 承 'Her'\", artist='', image='https://c.saavncdn.com/280/Love-Yourself-Her-Korean-2021-20220510145034-500x500.jpg', language='korean', year='2021')]))"
      ]
     },
     "execution_count": 5,
     "metadata": {},
     "output_type": "execute_result"
    }
   ],
   "source": [
    "await jio_saavn_api.artist_details(artist_id=\"3315420\")"
   ]
  },
  {
   "cell_type": "code",
   "execution_count": null,
   "metadata": {},
   "outputs": [],
   "source": []
  }
 ],
 "metadata": {
  "kernelspec": {
   "display_name": "Python 3",
   "language": "python",
   "name": "python3"
  },
  "language_info": {
   "codemirror_mode": {
    "name": "ipython",
    "version": 3
   },
   "file_extension": ".py",
   "mimetype": "text/x-python",
   "name": "python",
   "nbconvert_exporter": "python",
   "pygments_lexer": "ipython3",
   "version": "3.12.4"
  }
 },
 "nbformat": 4,
 "nbformat_minor": 2
}

{
 "cells": [
  {
   "cell_type": "code",
   "execution_count": 1,
   "metadata": {},
   "outputs": [],
   "source": [
    "from httpx import AsyncClient\n",
    "from Modules.JioSaavn import JioSaavnApi\n",
    "from models.JioSaavn import (\n",
    "    AlbumDetailsModel,\n",
    "    SearchModel,\n",
    "    ArtistDetailsModel,\n",
    "    SongDetailsModel,\n",
    "    HomeModels,\n",
    "    PlaylistDetailsModel,\n",
    ")\n",
    "from typing import Union"
   ]
  },
  {
   "cell_type": "code",
   "execution_count": 2,
   "metadata": {},
   "outputs": [],
   "source": [
    "jio_saavn_api = JioSaavnApi()"
   ]
  },
  {
   "cell_type": "code",
   "execution_count": 3,
   "metadata": {},
   "outputs": [],
   "source": [
    "jio_api_base_url = \"https://www.jiosaavn.com/api.php\""
   ]
  },
  {
   "cell_type": "code",
   "execution_count": 4,
   "metadata": {},
   "outputs": [],
   "source": [
    "home_page = jio_saavn_api.home_page(language=HomeModels.Languages.Tamil)\n",
    "home_page_ = await home_page"
   ]
  },
  {
   "cell_type": "code",
   "execution_count": null,
   "metadata": {},
   "outputs": [],
   "source": [
    "home_page_.new_albums[0]"
   ]
  },
  {
   "cell_type": "code",
   "execution_count": null,
   "metadata": {},
   "outputs": [],
   "source": [
    "search_songs = await jio_saavn_api.search(\n",
    "    search_mode=SearchModel.SearchModes.SONGS, query=\"The Greatest Of All Time\"\n",
    ")\n",
    "search_songs[:5]"
   ]
  },
  {
   "cell_type": "code",
   "execution_count": null,
   "metadata": {},
   "outputs": [],
   "source": [
    "search_albums = await jio_saavn_api.search(\n",
    "    search_mode=SearchModel.SearchModes.ALBUMS, query=\"Vettaiyan\"\n",
    ")\n",
    "search_albums[:5]"
   ]
  },
  {
   "cell_type": "code",
   "execution_count": null,
   "metadata": {},
   "outputs": [],
   "source": [
    "search_artists = await jio_saavn_api.search(\n",
    "    search_mode=SearchModel.SearchModes.ARTISTS, query=\"Anirudh Ravichander\"\n",
    ")\n",
    "search_artists[:5]"
   ]
  },
  {
   "cell_type": "code",
   "execution_count": null,
   "metadata": {},
   "outputs": [],
   "source": [
    "search_playlist = await jio_saavn_api.search(\n",
    "    search_mode=SearchModel.SearchModes.PLAYLISTS, query=\"Kamal Haasan\"\n",
    ")\n",
    "search_playlist[:5]"
   ]
  },
  {
   "cell_type": "code",
   "execution_count": null,
   "metadata": {},
   "outputs": [],
   "source": [
    "await jio_saavn_api.artist_details(artist_id=\"455663\")"
   ]
  },
  {
   "cell_type": "code",
   "execution_count": null,
   "metadata": {},
   "outputs": [],
   "source": [
    "album_details = await jio_saavn_api.album_details(album_id=\"57856226\")"
   ]
  },
  {
   "cell_type": "code",
   "execution_count": null,
   "metadata": {},
   "outputs": [],
   "source": [
    "album_details.album_detail.primary_artists"
   ]
  },
  {
   "cell_type": "code",
   "execution_count": 22,
   "metadata": {},
   "outputs": [],
   "source": [
    "st = await jio_saavn_api.song_details(song_id=\"d3rfMKEc\")"
   ]
  },
  {
   "cell_type": "code",
   "execution_count": null,
   "metadata": {},
   "outputs": [],
   "source": [
    "st.title"
   ]
  },
  {
   "cell_type": "code",
   "execution_count": null,
   "metadata": {},
   "outputs": [],
   "source": [
    "playlist_details_ = await jio_saavn_api.playlist_details(\"57401261\")\n",
    "playlist_details_"
   ]
  },
  {
   "cell_type": "code",
   "execution_count": 1,
   "metadata": {},
   "outputs": [],
   "source": [
    "from datetime import datetime"
   ]
  },
  {
   "cell_type": "code",
   "execution_count": 2,
   "metadata": {},
   "outputs": [],
   "source": [
    "timestamp = 1726469985\n",
    "\n",
    "# Convert to datetime\n",
    "dt_object = datetime.fromtimestamp(timestamp)"
   ]
  },
  {
   "cell_type": "code",
   "execution_count": 3,
   "metadata": {},
   "outputs": [
    {
     "data": {
      "text/plain": [
       "datetime.datetime(2024, 9, 16, 12, 29, 45)"
      ]
     },
     "execution_count": 3,
     "metadata": {},
     "output_type": "execute_result"
    }
   ],
   "source": [
    "dt_object.strftime(\"%Y-%m-%d\")"
   ]
  },
  {
   "cell_type": "code",
   "execution_count": null,
   "metadata": {},
   "outputs": [],
   "source": []
  }
 ],
 "metadata": {
  "kernelspec": {
   "display_name": "Python 3",
   "language": "python",
   "name": "python3"
  },
  "language_info": {
   "codemirror_mode": {
    "name": "ipython",
    "version": 3
   },
   "file_extension": ".py",
   "mimetype": "text/x-python",
   "name": "python",
   "nbconvert_exporter": "python",
   "pygments_lexer": "ipython3",
   "version": "3.12.4"
  }
 },
 "nbformat": 4,
 "nbformat_minor": 2
}

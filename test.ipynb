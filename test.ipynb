{
 "cells": [
  {
   "cell_type": "code",
   "execution_count": 1,
   "metadata": {},
   "outputs": [],
   "source": [
    "from httpx import AsyncClient\n",
    "from Modules.JioSaavn import JioSaavnApi\n",
    "from models.JioSaavn import AlbumDetailsModel, SearchModel\n",
    "from typing import Union"
   ]
  },
  {
   "cell_type": "code",
   "execution_count": 2,
   "metadata": {},
   "outputs": [],
   "source": [
    "jio_saavn_api = JioSaavnApi()"
   ]
  },
  {
   "cell_type": "code",
   "execution_count": 3,
   "metadata": {},
   "outputs": [],
   "source": [
    "jio_api_base_url = \"https://www.jiosaavn.com/api.php\""
   ]
  },
  {
   "cell_type": "code",
   "execution_count": null,
   "metadata": {},
   "outputs": [],
   "source": [
    "search = await jio_saavn_api.search(\n",
    "    search_input=SearchModel.SearchInputModel(\n",
    "        search_mode=SearchModel.SearchModes.ALBUMS, query=\"The Greatest of all time\"\n",
    "    )\n",
    ")\n",
    "search[:5]"
   ]
  },
  {
   "cell_type": "code",
   "execution_count": null,
   "metadata": {},
   "outputs": [],
   "source": [
    "album_details = await jio_saavn_api.album_details(album_id=search[0].id)\n",
    "album_details"
   ]
  },
  {
   "cell_type": "code",
   "execution_count": null,
   "metadata": {},
   "outputs": [],
   "source": [
    "# async def artist_details():\n",
    "#     request_params = {\n",
    "#             \"__call\": search_input.search_mode.value,\n",
    "#             \"_format\": \"json\",\n",
    "#             \"_marker\": \"0\",\n",
    "#             \"n\": \"151353\",\n",
    "#             \"api_version\": \"4\",\n",
    "#             \"ctx\": \"web6dot0\",\n",
    "#             \"q\": search_input.query,\n",
    "#         }\n",
    "#         async with AsyncClient() as async_client:\n",
    "#             resp = await async_client.get(self.jio_api_base_url, params=request_params)\n",
    "\n",
    "#         resp: dict = resp.json()"
   ]
  },
  {
   "cell_type": "code",
   "execution_count": null,
   "metadata": {},
   "outputs": [],
   "source": []
  }
 ],
 "metadata": {
  "kernelspec": {
   "display_name": "Python 3",
   "language": "python",
   "name": "python3"
  },
  "language_info": {
   "codemirror_mode": {
    "name": "ipython",
    "version": 3
   },
   "file_extension": ".py",
   "mimetype": "text/x-python",
   "name": "python",
   "nbconvert_exporter": "python",
   "pygments_lexer": "ipython3",
   "version": "3.12.4"
  }
 },
 "nbformat": 4,
 "nbformat_minor": 2
}

{
 "cells": [
  {
   "cell_type": "code",
   "execution_count": 1,
   "metadata": {},
   "outputs": [],
   "source": [
    "from httpx import AsyncClient\n",
    "from Modules.JioSaavn import JioSaavnApi\n",
    "from models.JioSaavn import AlbumDetailsModel"
   ]
  },
  {
   "cell_type": "code",
   "execution_count": 2,
   "metadata": {},
   "outputs": [],
   "source": [
    "jio_saavn_api = JioSaavnApi()"
   ]
  },
  {
   "cell_type": "code",
   "execution_count": 3,
   "metadata": {},
   "outputs": [],
   "source": [
    "jio_api_base_url = \"https://www.jiosaavn.com/api.php\""
   ]
  },
  {
   "cell_type": "code",
   "execution_count": 4,
   "metadata": {},
   "outputs": [],
   "source": [
    "async def album_details(album_id: str) -> AlbumDetailsModel.AlbumDetails:\n",
    "\n",
    "    request_params = {\n",
    "        \"__call\": \"content.getAlbumDetails\",\n",
    "        \"albumid\": album_id,\n",
    "    }\n",
    "    async with AsyncClient() as async_client:\n",
    "        resp = await async_client.get(jio_api_base_url, params=request_params)\n",
    "\n",
    "    resp = resp.json()\n",
    "\n",
    "    album_details = AlbumDetailsModel.AlbumDetail(**resp)\n",
    "    songs = [AlbumDetailsModel.Song(**song) for song in resp.get(\"songs\")]\n",
    "\n",
    "    result = AlbumDetailsModel.AlbumDetails(album_detail=album_details, songs=songs)\n",
    "    return result"
   ]
  },
  {
   "cell_type": "code",
   "execution_count": null,
   "metadata": {},
   "outputs": [],
   "source": [
    "albums = await jio_saavn_api.home_page(language=\"tamil\")\n",
    "albums.new_albums[1].model_dump()"
   ]
  },
  {
   "cell_type": "code",
   "execution_count": 6,
   "metadata": {},
   "outputs": [],
   "source": [
    "album_d = await album_details(57687828)"
   ]
  },
  {
   "cell_type": "code",
   "execution_count": null,
   "metadata": {},
   "outputs": [],
   "source": [
    "album_d.songs[0].image"
   ]
  },
  {
   "cell_type": "code",
   "execution_count": null,
   "metadata": {},
   "outputs": [],
   "source": []
  }
 ],
 "metadata": {
  "kernelspec": {
   "display_name": "Python 3",
   "language": "python",
   "name": "python3"
  },
  "language_info": {
   "codemirror_mode": {
    "name": "ipython",
    "version": 3
   },
   "file_extension": ".py",
   "mimetype": "text/x-python",
   "name": "python",
   "nbconvert_exporter": "python",
   "pygments_lexer": "ipython3",
   "version": "3.12.4"
  }
 },
 "nbformat": 4,
 "nbformat_minor": 2
}

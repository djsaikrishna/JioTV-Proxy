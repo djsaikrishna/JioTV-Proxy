{
 "cells": [
  {
   "cell_type": "code",
   "execution_count": 1,
   "metadata": {},
   "outputs": [],
   "source": [
    "from httpx import AsyncClient\n",
    "from Modules.JioSaavn import JioSaavnApi"
   ]
  },
  {
   "cell_type": "code",
   "execution_count": 2,
   "metadata": {},
   "outputs": [],
   "source": [
    "from models.JioSaavn import HomeModels"
   ]
  },
  {
   "cell_type": "code",
   "execution_count": 3,
   "metadata": {},
   "outputs": [],
   "source": [
    "jio_saavn_api = JioSaavnApi()"
   ]
  },
  {
   "cell_type": "code",
   "execution_count": 4,
   "metadata": {},
   "outputs": [],
   "source": [
    "jio_api_base_url = \"https://www.jiosaavn.com/api.php\""
   ]
  },
  {
   "cell_type": "code",
   "execution_count": 5,
   "metadata": {},
   "outputs": [],
   "source": [
    "async def album_details(album_id: str):\n",
    "\n",
    "    request_params = {\n",
    "        \"__call\": \"content.getAlbumDetails\",\n",
    "        \"albumid\": album_id,\n",
    "    }\n",
    "    async with AsyncClient() as async_client:\n",
    "        resp = await async_client.get(jio_api_base_url, params=request_params)\n",
    "\n",
    "    resp = resp.json()\n",
    "\n",
    "    return resp"
   ]
  },
  {
   "cell_type": "code",
   "execution_count": 6,
   "metadata": {},
   "outputs": [
    {
     "data": {
      "text/plain": [
       "{'query': 'The Greatest Of All Time - (Tamil)',\n",
       " 'text': 'The Greatest Of All Time - (Tamil)',\n",
       " 'year': '2024',\n",
       " 'image': 'https://c.saavncdn.com/829/The-Greatest-Of-All-Time-Tamil-Tamil-2024-20240903191033-150x150.jpg',\n",
       " 'albumid': '57687828',\n",
       " 'title': 'The Greatest Of All Time - (Tamil)',\n",
       " 'weight': 334,\n",
       " 'language': 'tamil',\n",
       " 'artists': [{'id': '456091', 'name': 'Yuvan Shankar Raja'},\n",
       "  {'id': '456091', 'name': 'Yuvan Shankar Raja'}]}"
      ]
     },
     "execution_count": 6,
     "metadata": {},
     "output_type": "execute_result"
    }
   ],
   "source": [
    "albums = await jio_saavn_api.home_page(language=\"tamil\")\n",
    "albums.new_albums[1].model_dump()"
   ]
  },
  {
   "cell_type": "code",
   "execution_count": 7,
   "metadata": {},
   "outputs": [],
   "source": [
    "album_d = await album_details(57687828)"
   ]
  },
  {
   "cell_type": "code",
   "execution_count": 8,
   "metadata": {},
   "outputs": [
    {
     "data": {
      "text/plain": [
       "dict_keys(['title', 'name', 'year', 'release_date', 'primary_artists', 'primary_artists_id', 'albumid', 'perma_url', 'image', 'songs'])"
      ]
     },
     "execution_count": 8,
     "metadata": {},
     "output_type": "execute_result"
    }
   ],
   "source": [
    "album_d.keys()"
   ]
  },
  {
   "cell_type": "code",
   "execution_count": 9,
   "metadata": {},
   "outputs": [
    {
     "data": {
      "text/plain": [
       "dict_keys(['id', 'type', 'song', 'album', 'year', 'music', 'music_id', 'primary_artists', 'primary_artists_id', 'featured_artists', 'featured_artists_id', 'singers', 'starring', 'image', 'label', 'albumid', 'language', 'origin', 'play_count', 'is_drm', 'copyright_text', '320kbps', 'is_dolby_content', 'explicit_content', 'has_lyrics', 'lyrics_snippet', 'encrypted_drm_media_url', 'encrypted_media_url', 'encrypted_media_path', 'media_preview_url', 'perma_url', 'album_url', 'duration', 'rights', 'webp', 'starred', 'artistMap', 'release_date', 'vcode', 'vlink', 'triller_available', 'label_url'])"
      ]
     },
     "execution_count": 9,
     "metadata": {},
     "output_type": "execute_result"
    }
   ],
   "source": [
    "album_d.get(\"songs\")[0].keys()"
   ]
  },
  {
   "cell_type": "code",
   "execution_count": 10,
   "metadata": {},
   "outputs": [
    {
     "data": {
      "text/plain": [
       "'1671540'"
      ]
     },
     "execution_count": 10,
     "metadata": {},
     "output_type": "execute_result"
    }
   ],
   "source": [
    "album_d.get(\"songs\")[0].get(\"play_count\")"
   ]
  },
  {
   "cell_type": "code",
   "execution_count": null,
   "metadata": {},
   "outputs": [],
   "source": []
  }
 ],
 "metadata": {
  "kernelspec": {
   "display_name": "Python 3",
   "language": "python",
   "name": "python3"
  },
  "language_info": {
   "codemirror_mode": {
    "name": "ipython",
    "version": 3
   },
   "file_extension": ".py",
   "mimetype": "text/x-python",
   "name": "python",
   "nbconvert_exporter": "python",
   "pygments_lexer": "ipython3",
   "version": "3.12.4"
  }
 },
 "nbformat": 4,
 "nbformat_minor": 2
}

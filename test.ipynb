{
 "cells": [
  {
   "cell_type": "code",
   "execution_count": 1,
   "metadata": {},
   "outputs": [],
   "source": [
    "from httpx import AsyncClient\n",
    "from Modules.JioSaavn import JioSaavnApi\n",
    "from models.JioSaavn import AlbumDetailsModel, SearchModel\n",
    "from typing import Union"
   ]
  },
  {
   "cell_type": "code",
   "execution_count": 2,
   "metadata": {},
   "outputs": [],
   "source": [
    "jio_saavn_api = JioSaavnApi()"
   ]
  },
  {
   "cell_type": "code",
   "execution_count": 3,
   "metadata": {},
   "outputs": [],
   "source": [
    "jio_api_base_url = \"https://www.jiosaavn.com/api.php\""
   ]
  },
  {
   "cell_type": "code",
   "execution_count": 9,
   "metadata": {},
   "outputs": [
    {
     "data": {
      "text/plain": [
       "[Album(id='57687828', title='The Greatest Of All Time - (Tamil)', artist='Yuvan Shankar Raja', image='https://c.saavncdn.com/829/The-Greatest-Of-All-Time-Tamil-Tamil-2024-20240903191033-500x500.jpg', language='tamil', year='2024'),\n",
       " Album(id='57687825', title='The Greatest Of All Time - (Telugu)', artist='Yuvan Shankar Raja', image='https://c.saavncdn.com/762/The-Greatest-Of-All-Time-Telugu-Telugu-2024-20240903191019-500x500.jpg', language='telugu', year='2024'),\n",
       " Album(id='57614064', title='Matta (From \"The Greatest Of All Time\")', artist='Yuvan Shankar Raja, Shenbagaraj Ganesalingam, Velu, Sam, Narayanan Ravishankar', image='https://c.saavncdn.com/672/Matta-From-The-Greatest-Of-All-Time-Tamil-2024-20240831141002-500x500.jpg', language='tamil', year='2024'),\n",
       " Album(id='56813816', title='Spark (From \"The Greatest Of All Time\")', artist='Yuvan Shankar Raja, Vrusha Balu', image='https://c.saavncdn.com/206/Spark-From-The-Greatest-Of-All-Time-Tamil-2024-20240803121017-500x500.jpg', language='tamil', year='2024'),\n",
       " Album(id='53413215', title='Whistle Podu (From \"The Greatest Of All Time\")', artist='Thalapathy Vijay, Yuvan Shankar Raja', image='https://c.saavncdn.com/874/Whistle-Podu-From-The-Greatest-Of-All-Time-Tamil-2024-20240416201003-500x500.jpg', language='tamil', year='2024'),\n",
       " Album(id='55421421', title='Chinna Chinna Kangal (From \"The Greatest Of All Time\")', artist='Thalapathy Vijay, Yuvan Shankar Raja, Raja Bhavatharini', image='https://c.saavncdn.com/260/Chinna-Chinna-Kangal-From-The-Greatest-Of-All-Time-Tamil-2024-20240620161109-500x500.jpg', language='tamil', year='2024'),\n",
       " Album(id='57614065', title='Masthie (From \"The Greatest Of All Time\")', artist='Yuvan Shankar Raja, Shenbagaraj Ganesalingam, Velu, Sam, Narayanan Ravishankar', image='https://c.saavncdn.com/689/Masthie-From-The-Greatest-Of-All-Time-Telugu-2024-20240831141006-500x500.jpg', language='telugu', year='2024'),\n",
       " Album(id='56813817', title='Spark (From \"The Greatest Of All Time\")', artist='Yuvan Shankar Raja, Vrusha Balu', image='https://c.saavncdn.com/213/Spark-From-The-Greatest-Of-All-Time-Telugu-2024-20240803121013-500x500.jpg', language='telugu', year='2024'),\n",
       " Album(id='22767261', title='The Greatest of All Time', artist='A1 Maine', image='https://c.saavncdn.com/916/The-Greatest-of-All-Time-Unknown-2020-20200928014404-500x500.jpg', language='unknown', year='2020'),\n",
       " Album(id='56271069', title='Ninnu Kanna Kanulae (From \"The Greatest Of All Time\")', artist='Yuvan Shankar Raja, SP Charan, Chitra', image='https://c.saavncdn.com/548/Ninnu-Kanna-Kanulae-From-The-Greatest-Of-All-Time-Telugu-2024-20240717201012-500x500.jpg', language='telugu', year='2024'),\n",
       " Album(id='56123450', title='Whistle Aesko (From \"The Greatest Of All Time\")', artist='Yuvan Shankar Raja, Nakash Aziz', image='https://c.saavncdn.com/452/Whistle-Aesko-From-The-Greatest-Of-All-Time-Telugu-2024-20240712171058-500x500.jpg', language='telugu', year='2024'),\n",
       " Album(id='10325601', title='Vs. the Greatest of All Time', artist='Archers Of Loaf', image='https://c.saavncdn.com/029/Vs-the-Greatest-of-All-Time-English-2007-500x500.jpg', language='english', year='2007'),\n",
       " Album(id='1230530', title='G.O.A.T. - The Greatest Of All Time', artist='Ll Cool J', image='https://c.saavncdn.com/725/G-O-A-T-The-Greatest-Of-All-Time-English-2015-500x500.jpg', language='english', year='2015'),\n",
       " Album(id='17191573', title='Whitney The Greatest Hits', artist='Whitney Houston', image='https://c.saavncdn.com/483/Whitney-The-Greatest-Hits-English-2019-20190905223011-500x500.jpg', language='english', year='2000'),\n",
       " Album(id='57685416', title='Ready to Party for the Greatest of All Time Goat', artist='ANANDH DHARMAN', image='https://c.saavncdn.com/777/Ready-to-Party-for-the-Greatest-of-All-Time-Goat-Tamil-2024-20240903160508-500x500.jpg', language='tamil', year='2024'),\n",
       " Album(id='1226763', title='G. O. A. T. Featuring James T. Smith: The Greatest Of All Time', artist='Ll Cool J', image='https://c.saavncdn.com/926/G-O-A-T-Featuring-James-T-Smith-The-Greatest-Of-All-Time-Explicit-Version-English-2015-500x500.jpg', language='english', year='2008'),\n",
       " Album(id='13921632', title='G. O. A. T. Featuring James T. Smith: The Greatest Of All Time', artist='Ll Cool J', image='https://c.saavncdn.com/025/G-O-A-T-Featuring-James-T-Smith-The-Greatest-Of-All-Time-English-2008-20200519171216-500x500.jpg', language='english', year='2008'),\n",
       " Album(id='2766285', title='The Greatest Instrumentals of All Time', artist='The Session', image='https://c.saavncdn.com/102/The-Greatest-Instrumentals-of-All-Time-English-2008-500x500.jpg', language='english', year='2008'),\n",
       " Album(id='10607943', title='The Greatest of All-Time Vol. 2', artist='Various Artists', image='https://c.saavncdn.com/598/The-Greatest-of-All-Time-Vol-2-English-2017-500x500.jpg', language='english', year='2017'),\n",
       " Album(id='3292947', title='The Greatest Don Williams', artist='Don Williams', image='https://c.saavncdn.com/304/The-Greatest-Don-Williams-English-2012-500x500.jpg', language='english', year='2012'),\n",
       " Album(id='1127165', title='All Time Greatest Hits', artist='Loretta Lynn', image='https://c.saavncdn.com/125/All-Time-Greatest-Hits-English-2008-20231129052147-500x500.jpg', language='english', year='2008'),\n",
       " Album(id='1094502', title='The Greatest Songs Of The Eighties', artist='Barry Manilow', image='https://c.saavncdn.com/120/The-Greatest-Songs-Of-The-Eighties-2008-500x500.jpg', language='english', year='2008'),\n",
       " Album(id='1086302', title='All Time Greatest Hits', artist='Perry Como', image='https://c.saavncdn.com/327/All-Time-Greatest-Hits-English-1988-500x500.jpg', language='english', year='1988'),\n",
       " Album(id='1086298', title='All Time Greatest Hits', artist='Neil Sedaka', image='https://c.saavncdn.com/620/All-Time-Greatest-Hits-1983-500x500.jpg', language='english', year='1983'),\n",
       " Album(id='2985604', title='The Greatest Ballads Of All Time', artist='The Hit Nation', image='https://c.saavncdn.com/112/The-Greatest-Ballads-Of-All-Time-English-2011-500x500.jpg', language='english', year='2011'),\n",
       " Album(id='23168407', title='The Greatest Song of All Time', artist='Five Star Motel', image='https://c.saavncdn.com/362/The-Greatest-Song-of-All-Time-English-2008-20201024093416-500x500.jpg', language='english', year='2008'),\n",
       " Album(id='54565199', title='The Greatest Movie of all Time', artist='Litvar', image='https://c.saavncdn.com/519/The-Greatest-Movie-of-all-Time-English-2020-20240523043034-500x500.jpg', language='english', year='2020'),\n",
       " Album(id='31424286', title='Greatest of All Time', artist='Modern Gods', image='https://c.saavncdn.com/313/Greatest-of-All-Time-English-2021-20211209175439-500x500.jpg', language='english', year='2021'),\n",
       " Album(id='3037085', title='The Greatest Rock Riffs Of All Time', artist='Chords Of Chaos', image='https://c.saavncdn.com/532/The-Greatest-Rock-Riffs-Of-All-Time-English-2011-500x500.jpg', language='english', year='2011'),\n",
       " Album(id='1089138', title='The Greatest Love Songs Of All Time', artist='Barry Manilow', image='https://c.saavncdn.com/478/The-Greatest-Love-Songs-Of-All-Time-2010-500x500.jpg', language='english', year='2010'),\n",
       " Album(id='11315912', title='The Greatest Rock Anthems of All Time', artist='Killer Guitar Riffs', image='https://c.saavncdn.com/983/The-Greatest-Rock-Anthems-of-All-Time-English-2014-20160419222645-500x500.jpg', language='english', year='2014'),\n",
       " Album(id='42905289', title='The 18th Greatest Album of All Time', artist='ImBibi Cookups', image='https://c.saavncdn.com/685/The-18th-Greatest-Album-of-All-Time-English-2022-20230223075455-500x500.jpg', language='english', year='2022'),\n",
       " Album(id='43333253', title='The greatest rock ballads of all time', artist='', image='https://c.saavncdn.com/218/The-greatest-rock-ballads-of-all-time-Unknown-2023-20230308091011-500x500.jpg', language='unknown', year='2023'),\n",
       " Album(id='1392419', title='The Greatest Blues Guitarist of All Time', artist=\"Lightnin' Hopkins\", image='https://c.saavncdn.com/802/The-Greatest-Blues-Guitarist-of-All-Time-English-2013-20230109201704-500x500.jpg', language='english', year='2013'),\n",
       " Album(id='49505854', title='The Greatest Jewel Heist of All Time', artist='Bobby Previte, MKMKMK', image='https://c.saavncdn.com/094/The-Greatest-Jewel-Heist-of-All-Time-Unknown-2024-20231104074533-500x500.jpg', language='unknown', year='2024'),\n",
       " Album(id='2696507', title='The Greatest Christmas Album of All Time', artist='The Yuletide Allstars', image='https://c.saavncdn.com/077/The-Greatest-Christmas-Album-of-All-Time-English-2007-500x500.jpg', language='english', year='2007'),\n",
       " Album(id='37427883', title='The Greatest Irish Music of All Time', artist='The Bawdy Brothers', image='https://c.saavncdn.com/078/The-Greatest-Irish-Music-of-All-Time-English-2008-20220817174330-500x500.jpg', language='english', year='2008'),\n",
       " Album(id='2574305', title='Greatest Speeches of All Time', artist='Various Artists', image='https://c.saavncdn.com/412/Greatest-Speeches-of-All-Time-English-2011-500x500.jpg', language='english', year='2011'),\n",
       " Album(id='2937683', title='Greatest Songs Of All Time', artist='Jukebox Junction', image='https://c.saavncdn.com/634/Greatest-Songs-Of-All-Time-English-2010-20230912150313-500x500.jpg', language='english', year='2010'),\n",
       " Album(id='2776369', title='The All Time Greatest Hits', artist='John Holt', image='https://c.saavncdn.com/566/The-All-Time-Greatest-Hits-English-2011-500x500.jpg', language='english', year='2011')]"
      ]
     },
     "execution_count": 9,
     "metadata": {},
     "output_type": "execute_result"
    }
   ],
   "source": [
    "search = await jio_saavn_api.search(\n",
    "    search_mode=SearchModel.SearchInputModel(\n",
    "        search_mode=SearchModel.SearchModes.ALBUMS, query=\"The Greatest of all time\"\n",
    "    )\n",
    ")\n",
    "search"
   ]
  },
  {
   "cell_type": "code",
   "execution_count": 11,
   "metadata": {},
   "outputs": [
    {
     "data": {
      "text/plain": [
       "AlbumDetails(album_detail=AlbumDetail(title='The Greatest Of All Time - (Tamil)', name='The Greatest Of All Time - (Tamil)', year='2024', release_date='2024-09-03', primary_artists=['Yuvan Shankar Raja'], primary_artists_id=['456091'], albumid='57687828', perma_url='https://www.jiosaavn.com/album/the-greatest-of-all-time-tamil/aO-StDZrm5M_', image='https://c.saavncdn.com/829/The-Greatest-Of-All-Time-Tamil-Tamil-2024-20240903191033-500x500.jpg'), songs=[Song(id='f3Z9Vohz', title='Whistle Podu', album='The Greatest Of All Time - (Tamil)', albumid='57687828', year='2024', artist='Yuvan Shankar Raja', artist_id='456091', image='https://c.saavncdn.com/829/The-Greatest-Of-All-Time-Tamil-Tamil-2024-20240903191033-500x500.jpg', play_count='1680424', encrypted_media_url='ID2ieOjCrwfgWvL5sXl4B1ImC5QfbsDyop6qqoRjnvD+toHYEhnm6PArE6bk3+J4ctplPvMs1ogpjpUFF07jvhw7tS9a8Gtq', duration='281', release_date='2024-09-03'), Song(id='aJ6qxPDa', title='Chinna Chinna Kangal', album='The Greatest Of All Time - (Tamil)', albumid='57687828', year='2024', artist='Yuvan Shankar Raja', artist_id='456091', image='https://c.saavncdn.com/829/The-Greatest-Of-All-Time-Tamil-Tamil-2024-20240903191033-500x500.jpg', play_count='722122', encrypted_media_url='ID2ieOjCrwfgWvL5sXl4B1ImC5QfbsDyOIFU6jh3VudTdOHqGRZnTOkIVhq1+jlY8Yw1HP162S3SkNo871dICxw7tS9a8Gtq', duration='269', release_date='2024-09-03'), Song(id='6qImZxC3', title='Spark', album='The Greatest Of All Time - (Tamil)', albumid='57687828', year='2024', artist='Yuvan Shankar Raja', artist_id='456091', image='https://c.saavncdn.com/829/The-Greatest-Of-All-Time-Tamil-Tamil-2024-20240903191033-500x500.jpg', play_count='749951', encrypted_media_url='ID2ieOjCrwfgWvL5sXl4B1ImC5QfbsDyDqKyK0qcGwF/eIYWv3nHKqNJvtlqb7K8XcRhue5oyR/51Nf2rMZzQRw7tS9a8Gtq', duration='250', release_date='2024-09-03'), Song(id='d3rfMKEc', title='Matta', album='The Greatest Of All Time - (Tamil)', albumid='57687828', year='2024', artist='Yuvan Shankar Raja', artist_id='456091', image='https://c.saavncdn.com/829/The-Greatest-Of-All-Time-Tamil-Tamil-2024-20240903191033-500x500.jpg', play_count='913588', encrypted_media_url='ID2ieOjCrwfgWvL5sXl4B1ImC5QfbsDyTn5VPpx+++s4AdMWTdiPbPH7h4CIFhD7Sg3nDV2luFbc4e1lGzgbqhw7tS9a8Gtq', duration='212', release_date='2024-09-03')])"
      ]
     },
     "execution_count": 11,
     "metadata": {},
     "output_type": "execute_result"
    }
   ],
   "source": [
    "album_details = await jio_saavn_api.album_details(album_id=search[0].id)\n",
    "album_details"
   ]
  },
  {
   "cell_type": "code",
   "execution_count": null,
   "metadata": {},
   "outputs": [],
   "source": []
  },
  {
   "cell_type": "code",
   "execution_count": null,
   "metadata": {},
   "outputs": [],
   "source": []
  }
 ],
 "metadata": {
  "kernelspec": {
   "display_name": "Python 3",
   "language": "python",
   "name": "python3"
  },
  "language_info": {
   "codemirror_mode": {
    "name": "ipython",
    "version": 3
   },
   "file_extension": ".py",
   "mimetype": "text/x-python",
   "name": "python",
   "nbconvert_exporter": "python",
   "pygments_lexer": "ipython3",
   "version": "3.12.4"
  }
 },
 "nbformat": 4,
 "nbformat_minor": 2
}

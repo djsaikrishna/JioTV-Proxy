{
 "cells": [
  {
   "cell_type": "code",
   "execution_count": 1,
   "metadata": {},
   "outputs": [],
   "source": [
    "from httpx import AsyncClient\n",
    "from Modules.JioSaavn import JioSaavnApi\n",
    "from models.JioSaavn import AlbumDetailsModel, SearchModel\n",
    "from typing import Union"
   ]
  },
  {
   "cell_type": "code",
   "execution_count": 2,
   "metadata": {},
   "outputs": [],
   "source": [
    "jio_saavn_api = JioSaavnApi()"
   ]
  },
  {
   "cell_type": "code",
   "execution_count": 3,
   "metadata": {},
   "outputs": [],
   "source": [
    "jio_api_base_url = \"https://www.jiosaavn.com/api.php\""
   ]
  },
  {
   "cell_type": "code",
   "execution_count": 4,
   "metadata": {},
   "outputs": [
    {
     "data": {
      "text/plain": [
       "[Album(id='57687828', title='The Greatest Of All Time - (Tamil)', artist='Yuvan Shankar Raja', image='https://c.saavncdn.com/829/The-Greatest-Of-All-Time-Tamil-Tamil-2024-20240903191033-500x500.jpg', language='tamil', year='2024'),\n",
       " Album(id='57687825', title='The Greatest Of All Time - (Telugu)', artist='Yuvan Shankar Raja', image='https://c.saavncdn.com/762/The-Greatest-Of-All-Time-Telugu-Telugu-2024-20240903191019-500x500.jpg', language='telugu', year='2024'),\n",
       " Album(id='57614064', title='Matta (From \"The Greatest Of All Time\")', artist='Yuvan Shankar Raja, Shenbagaraj Ganesalingam, Velu, Sam, Narayanan Ravishankar', image='https://c.saavncdn.com/672/Matta-From-The-Greatest-Of-All-Time-Tamil-2024-20240831141002-500x500.jpg', language='tamil', year='2024'),\n",
       " Album(id='56813816', title='Spark (From \"The Greatest Of All Time\")', artist='Yuvan Shankar Raja, Vrusha Balu', image='https://c.saavncdn.com/206/Spark-From-The-Greatest-Of-All-Time-Tamil-2024-20240803121017-500x500.jpg', language='tamil', year='2024'),\n",
       " Album(id='53413215', title='Whistle Podu (From \"The Greatest Of All Time\")', artist='Thalapathy Vijay, Yuvan Shankar Raja', image='https://c.saavncdn.com/874/Whistle-Podu-From-The-Greatest-Of-All-Time-Tamil-2024-20240416201003-500x500.jpg', language='tamil', year='2024')]"
      ]
     },
     "execution_count": 4,
     "metadata": {},
     "output_type": "execute_result"
    }
   ],
   "source": [
    "search = await jio_saavn_api.search(\n",
    "    search_mode=SearchModel.SearchModes.ALBUMS, query=\"The Greatest of all time\"\n",
    ")\n",
    "search[:5]"
   ]
  },
  {
   "cell_type": "code",
   "execution_count": 5,
   "metadata": {},
   "outputs": [
    {
     "data": {
      "text/plain": [
       "AlbumDetails(album_detail=AlbumDetail(title='The Greatest Of All Time - (Tamil)', name='The Greatest Of All Time - (Tamil)', year='2024', release_date='2024-09-03', primary_artists=['Yuvan Shankar Raja'], primary_artists_id=['456091'], albumid='57687828', perma_url='https://www.jiosaavn.com/album/the-greatest-of-all-time-tamil/aO-StDZrm5M_', image='https://c.saavncdn.com/829/The-Greatest-Of-All-Time-Tamil-Tamil-2024-20240903191033-500x500.jpg'), songs=[Song(id='f3Z9Vohz', title='Whistle Podu', album='The Greatest Of All Time - (Tamil)', albumid='57687828', year='2024', artist='Yuvan Shankar Raja', artist_id='456091', image='https://c.saavncdn.com/829/The-Greatest-Of-All-Time-Tamil-Tamil-2024-20240903191033-500x500.jpg', play_count='1681122', encrypted_media_url='ID2ieOjCrwfgWvL5sXl4B1ImC5QfbsDyop6qqoRjnvD+toHYEhnm6PArE6bk3+J4ctplPvMs1ogpjpUFF07jvhw7tS9a8Gtq', duration='281', release_date='2024-09-03'), Song(id='aJ6qxPDa', title='Chinna Chinna Kangal', album='The Greatest Of All Time - (Tamil)', albumid='57687828', year='2024', artist='Yuvan Shankar Raja', artist_id='456091', image='https://c.saavncdn.com/829/The-Greatest-Of-All-Time-Tamil-Tamil-2024-20240903191033-500x500.jpg', play_count='722636', encrypted_media_url='ID2ieOjCrwfgWvL5sXl4B1ImC5QfbsDyOIFU6jh3VudTdOHqGRZnTOkIVhq1+jlY8Yw1HP162S3SkNo871dICxw7tS9a8Gtq', duration='269', release_date='2024-09-03'), Song(id='6qImZxC3', title='Spark', album='The Greatest Of All Time - (Tamil)', albumid='57687828', year='2024', artist='Yuvan Shankar Raja', artist_id='456091', image='https://c.saavncdn.com/829/The-Greatest-Of-All-Time-Tamil-Tamil-2024-20240903191033-500x500.jpg', play_count='750609', encrypted_media_url='ID2ieOjCrwfgWvL5sXl4B1ImC5QfbsDyDqKyK0qcGwF/eIYWv3nHKqNJvtlqb7K8XcRhue5oyR/51Nf2rMZzQRw7tS9a8Gtq', duration='250', release_date='2024-09-03'), Song(id='d3rfMKEc', title='Matta', album='The Greatest Of All Time - (Tamil)', albumid='57687828', year='2024', artist='Yuvan Shankar Raja', artist_id='456091', image='https://c.saavncdn.com/829/The-Greatest-Of-All-Time-Tamil-Tamil-2024-20240903191033-500x500.jpg', play_count='914917', encrypted_media_url='ID2ieOjCrwfgWvL5sXl4B1ImC5QfbsDyTn5VPpx+++s4AdMWTdiPbPH7h4CIFhD7Sg3nDV2luFbc4e1lGzgbqhw7tS9a8Gtq', duration='212', release_date='2024-09-03')])"
      ]
     },
     "execution_count": 5,
     "metadata": {},
     "output_type": "execute_result"
    }
   ],
   "source": [
    "album_details = await jio_saavn_api.album_details(album_id=search[0].id)\n",
    "album_details"
   ]
  },
  {
   "cell_type": "code",
   "execution_count": 6,
   "metadata": {},
   "outputs": [],
   "source": [
    "# async def artist_details():\n",
    "#     request_params = {\n",
    "#             \"__call\": search_input.search_mode.value,\n",
    "#             \"_format\": \"json\",\n",
    "#             \"_marker\": \"0\",\n",
    "#             \"n\": \"151353\",\n",
    "#             \"api_version\": \"4\",\n",
    "#             \"ctx\": \"web6dot0\",\n",
    "#             \"q\": search_input.query,\n",
    "#         }\n",
    "#         async with AsyncClient() as async_client:\n",
    "#             resp = await async_client.get(self.jio_api_base_url, params=request_params)\n",
    "\n",
    "#         resp: dict = resp.json()"
   ]
  },
  {
   "cell_type": "code",
   "execution_count": null,
   "metadata": {},
   "outputs": [],
   "source": []
  }
 ],
 "metadata": {
  "kernelspec": {
   "display_name": "Python 3",
   "language": "python",
   "name": "python3"
  },
  "language_info": {
   "codemirror_mode": {
    "name": "ipython",
    "version": 3
   },
   "file_extension": ".py",
   "mimetype": "text/x-python",
   "name": "python",
   "nbconvert_exporter": "python",
   "pygments_lexer": "ipython3",
   "version": "3.12.4"
  }
 },
 "nbformat": 4,
 "nbformat_minor": 2
}
